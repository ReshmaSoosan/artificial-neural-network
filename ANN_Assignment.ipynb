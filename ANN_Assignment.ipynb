{
  "nbformat": 4,
  "nbformat_minor": 0,
  "metadata": {
    "colab": {
      "provenance": []
    },
    "kernelspec": {
      "name": "python3",
      "display_name": "Python 3"
    },
    "language_info": {
      "name": "python"
    }
  },
  "cells": [
    {
      "cell_type": "code",
      "execution_count": 119,
      "metadata": {
        "id": "hXB1kdJWHVWe"
      },
      "outputs": [],
      "source": [
        "import numpy as np \n",
        "import pandas as pd \n",
        "import tensorflow as tf\n",
        "import matplotlib.pyplot as plt\n",
        "from tensorflow.keras.models import Model\n",
        "from tensorflow.keras.layers import Dense, Input\n",
        "from sklearn.model_selection import train_test_split\n",
        "import seaborn as sns"
      ]
    },
    {
      "cell_type": "code",
      "source": [
        "data = pd.read_csv(\"car_purchasing.csv\",encoding='latin-1')"
      ],
      "metadata": {
        "id": "G_LMPh10IBdO"
      },
      "execution_count": 120,
      "outputs": []
    },
    {
      "cell_type": "code",
      "source": [
        "data.head()"
      ],
      "metadata": {
        "colab": {
          "base_uri": "https://localhost:8080/",
          "height": 391
        },
        "id": "rzXxAM_8IZCj",
        "outputId": "89de94f8-c31f-4edc-ffe2-2c83354301c9"
      },
      "execution_count": 121,
      "outputs": [
        {
          "output_type": "execute_result",
          "data": {
            "text/plain": [
              "     customer name                                    customer e-mail  \\\n",
              "0    Martina Avila  cubilia.Curae.Phasellus@quisaccumsanconvallis.edu   \n",
              "1    Harlan Barnes                                eu.dolor@diam.co.uk   \n",
              "2  Naomi Rodriquez  vulputate.mauris.sagittis@ametconsectetueradip...   \n",
              "3  Jade Cunningham                            malesuada@dignissim.com   \n",
              "4     Cedric Leach     felis.ullamcorper.viverra@egetmollislectus.net   \n",
              "\n",
              "        country  gender        age  annual Salary  credit card debt  \\\n",
              "0      Bulgaria       0  41.851720    62812.09301      11609.380910   \n",
              "1        Belize       0  40.870623    66646.89292       9572.957136   \n",
              "2       Algeria       1  43.152897    53798.55112      11160.355060   \n",
              "3  Cook Islands       1  58.271369    79370.03798      14426.164850   \n",
              "4        Brazil       1  57.313749    59729.15130       5358.712177   \n",
              "\n",
              "     net worth  car purchase amount  \n",
              "0  238961.2505          35321.45877  \n",
              "1  530973.9078          45115.52566  \n",
              "2  638467.1773          42925.70921  \n",
              "3  548599.0524          67422.36313  \n",
              "4  560304.0671          55915.46248  "
            ],
            "text/html": [
              "\n",
              "  <div id=\"df-6f52e115-d08e-4483-b83d-020379848dfc\">\n",
              "    <div class=\"colab-df-container\">\n",
              "      <div>\n",
              "<style scoped>\n",
              "    .dataframe tbody tr th:only-of-type {\n",
              "        vertical-align: middle;\n",
              "    }\n",
              "\n",
              "    .dataframe tbody tr th {\n",
              "        vertical-align: top;\n",
              "    }\n",
              "\n",
              "    .dataframe thead th {\n",
              "        text-align: right;\n",
              "    }\n",
              "</style>\n",
              "<table border=\"1\" class=\"dataframe\">\n",
              "  <thead>\n",
              "    <tr style=\"text-align: right;\">\n",
              "      <th></th>\n",
              "      <th>customer name</th>\n",
              "      <th>customer e-mail</th>\n",
              "      <th>country</th>\n",
              "      <th>gender</th>\n",
              "      <th>age</th>\n",
              "      <th>annual Salary</th>\n",
              "      <th>credit card debt</th>\n",
              "      <th>net worth</th>\n",
              "      <th>car purchase amount</th>\n",
              "    </tr>\n",
              "  </thead>\n",
              "  <tbody>\n",
              "    <tr>\n",
              "      <th>0</th>\n",
              "      <td>Martina Avila</td>\n",
              "      <td>cubilia.Curae.Phasellus@quisaccumsanconvallis.edu</td>\n",
              "      <td>Bulgaria</td>\n",
              "      <td>0</td>\n",
              "      <td>41.851720</td>\n",
              "      <td>62812.09301</td>\n",
              "      <td>11609.380910</td>\n",
              "      <td>238961.2505</td>\n",
              "      <td>35321.45877</td>\n",
              "    </tr>\n",
              "    <tr>\n",
              "      <th>1</th>\n",
              "      <td>Harlan Barnes</td>\n",
              "      <td>eu.dolor@diam.co.uk</td>\n",
              "      <td>Belize</td>\n",
              "      <td>0</td>\n",
              "      <td>40.870623</td>\n",
              "      <td>66646.89292</td>\n",
              "      <td>9572.957136</td>\n",
              "      <td>530973.9078</td>\n",
              "      <td>45115.52566</td>\n",
              "    </tr>\n",
              "    <tr>\n",
              "      <th>2</th>\n",
              "      <td>Naomi Rodriquez</td>\n",
              "      <td>vulputate.mauris.sagittis@ametconsectetueradip...</td>\n",
              "      <td>Algeria</td>\n",
              "      <td>1</td>\n",
              "      <td>43.152897</td>\n",
              "      <td>53798.55112</td>\n",
              "      <td>11160.355060</td>\n",
              "      <td>638467.1773</td>\n",
              "      <td>42925.70921</td>\n",
              "    </tr>\n",
              "    <tr>\n",
              "      <th>3</th>\n",
              "      <td>Jade Cunningham</td>\n",
              "      <td>malesuada@dignissim.com</td>\n",
              "      <td>Cook Islands</td>\n",
              "      <td>1</td>\n",
              "      <td>58.271369</td>\n",
              "      <td>79370.03798</td>\n",
              "      <td>14426.164850</td>\n",
              "      <td>548599.0524</td>\n",
              "      <td>67422.36313</td>\n",
              "    </tr>\n",
              "    <tr>\n",
              "      <th>4</th>\n",
              "      <td>Cedric Leach</td>\n",
              "      <td>felis.ullamcorper.viverra@egetmollislectus.net</td>\n",
              "      <td>Brazil</td>\n",
              "      <td>1</td>\n",
              "      <td>57.313749</td>\n",
              "      <td>59729.15130</td>\n",
              "      <td>5358.712177</td>\n",
              "      <td>560304.0671</td>\n",
              "      <td>55915.46248</td>\n",
              "    </tr>\n",
              "  </tbody>\n",
              "</table>\n",
              "</div>\n",
              "      <button class=\"colab-df-convert\" onclick=\"convertToInteractive('df-6f52e115-d08e-4483-b83d-020379848dfc')\"\n",
              "              title=\"Convert this dataframe to an interactive table.\"\n",
              "              style=\"display:none;\">\n",
              "        \n",
              "  <svg xmlns=\"http://www.w3.org/2000/svg\" height=\"24px\"viewBox=\"0 0 24 24\"\n",
              "       width=\"24px\">\n",
              "    <path d=\"M0 0h24v24H0V0z\" fill=\"none\"/>\n",
              "    <path d=\"M18.56 5.44l.94 2.06.94-2.06 2.06-.94-2.06-.94-.94-2.06-.94 2.06-2.06.94zm-11 1L8.5 8.5l.94-2.06 2.06-.94-2.06-.94L8.5 2.5l-.94 2.06-2.06.94zm10 10l.94 2.06.94-2.06 2.06-.94-2.06-.94-.94-2.06-.94 2.06-2.06.94z\"/><path d=\"M17.41 7.96l-1.37-1.37c-.4-.4-.92-.59-1.43-.59-.52 0-1.04.2-1.43.59L10.3 9.45l-7.72 7.72c-.78.78-.78 2.05 0 2.83L4 21.41c.39.39.9.59 1.41.59.51 0 1.02-.2 1.41-.59l7.78-7.78 2.81-2.81c.8-.78.8-2.07 0-2.86zM5.41 20L4 18.59l7.72-7.72 1.47 1.35L5.41 20z\"/>\n",
              "  </svg>\n",
              "      </button>\n",
              "      \n",
              "  <style>\n",
              "    .colab-df-container {\n",
              "      display:flex;\n",
              "      flex-wrap:wrap;\n",
              "      gap: 12px;\n",
              "    }\n",
              "\n",
              "    .colab-df-convert {\n",
              "      background-color: #E8F0FE;\n",
              "      border: none;\n",
              "      border-radius: 50%;\n",
              "      cursor: pointer;\n",
              "      display: none;\n",
              "      fill: #1967D2;\n",
              "      height: 32px;\n",
              "      padding: 0 0 0 0;\n",
              "      width: 32px;\n",
              "    }\n",
              "\n",
              "    .colab-df-convert:hover {\n",
              "      background-color: #E2EBFA;\n",
              "      box-shadow: 0px 1px 2px rgba(60, 64, 67, 0.3), 0px 1px 3px 1px rgba(60, 64, 67, 0.15);\n",
              "      fill: #174EA6;\n",
              "    }\n",
              "\n",
              "    [theme=dark] .colab-df-convert {\n",
              "      background-color: #3B4455;\n",
              "      fill: #D2E3FC;\n",
              "    }\n",
              "\n",
              "    [theme=dark] .colab-df-convert:hover {\n",
              "      background-color: #434B5C;\n",
              "      box-shadow: 0px 1px 3px 1px rgba(0, 0, 0, 0.15);\n",
              "      filter: drop-shadow(0px 1px 2px rgba(0, 0, 0, 0.3));\n",
              "      fill: #FFFFFF;\n",
              "    }\n",
              "  </style>\n",
              "\n",
              "      <script>\n",
              "        const buttonEl =\n",
              "          document.querySelector('#df-6f52e115-d08e-4483-b83d-020379848dfc button.colab-df-convert');\n",
              "        buttonEl.style.display =\n",
              "          google.colab.kernel.accessAllowed ? 'block' : 'none';\n",
              "\n",
              "        async function convertToInteractive(key) {\n",
              "          const element = document.querySelector('#df-6f52e115-d08e-4483-b83d-020379848dfc');\n",
              "          const dataTable =\n",
              "            await google.colab.kernel.invokeFunction('convertToInteractive',\n",
              "                                                     [key], {});\n",
              "          if (!dataTable) return;\n",
              "\n",
              "          const docLinkHtml = 'Like what you see? Visit the ' +\n",
              "            '<a target=\"_blank\" href=https://colab.research.google.com/notebooks/data_table.ipynb>data table notebook</a>'\n",
              "            + ' to learn more about interactive tables.';\n",
              "          element.innerHTML = '';\n",
              "          dataTable['output_type'] = 'display_data';\n",
              "          await google.colab.output.renderOutput(dataTable, element);\n",
              "          const docLink = document.createElement('div');\n",
              "          docLink.innerHTML = docLinkHtml;\n",
              "          element.appendChild(docLink);\n",
              "        }\n",
              "      </script>\n",
              "    </div>\n",
              "  </div>\n",
              "  "
            ]
          },
          "metadata": {},
          "execution_count": 121
        }
      ]
    },
    {
      "cell_type": "markdown",
      "source": [
        "## Explorartory Data Analysis"
      ],
      "metadata": {
        "id": "VcR1V_QQWgGc"
      }
    },
    {
      "cell_type": "code",
      "source": [
        "data.shape"
      ],
      "metadata": {
        "colab": {
          "base_uri": "https://localhost:8080/"
        },
        "id": "bB6PZIgpWfcS",
        "outputId": "f776d98b-d18f-4446-a1ca-e03f7d42dace"
      },
      "execution_count": 122,
      "outputs": [
        {
          "output_type": "execute_result",
          "data": {
            "text/plain": [
              "(500, 9)"
            ]
          },
          "metadata": {},
          "execution_count": 122
        }
      ]
    },
    {
      "cell_type": "code",
      "source": [
        "data.info()"
      ],
      "metadata": {
        "colab": {
          "base_uri": "https://localhost:8080/"
        },
        "id": "fV6TGskYW0hF",
        "outputId": "85a67237-fc50-4e89-ffd6-6c18fc14abd3"
      },
      "execution_count": 123,
      "outputs": [
        {
          "output_type": "stream",
          "name": "stdout",
          "text": [
            "<class 'pandas.core.frame.DataFrame'>\n",
            "RangeIndex: 500 entries, 0 to 499\n",
            "Data columns (total 9 columns):\n",
            " #   Column               Non-Null Count  Dtype  \n",
            "---  ------               --------------  -----  \n",
            " 0   customer name        500 non-null    object \n",
            " 1   customer e-mail      500 non-null    object \n",
            " 2   country              500 non-null    object \n",
            " 3   gender               500 non-null    int64  \n",
            " 4   age                  500 non-null    float64\n",
            " 5   annual Salary        500 non-null    float64\n",
            " 6   credit card debt     500 non-null    float64\n",
            " 7   net worth            500 non-null    float64\n",
            " 8   car purchase amount  500 non-null    float64\n",
            "dtypes: float64(5), int64(1), object(3)\n",
            "memory usage: 35.3+ KB\n"
          ]
        }
      ]
    },
    {
      "cell_type": "code",
      "source": [
        "data.isna().sum()"
      ],
      "metadata": {
        "colab": {
          "base_uri": "https://localhost:8080/"
        },
        "id": "szZ4WQOAW0t0",
        "outputId": "7e4ebe00-22a2-4e3e-8dee-ef770f169cba"
      },
      "execution_count": 124,
      "outputs": [
        {
          "output_type": "execute_result",
          "data": {
            "text/plain": [
              "customer name          0\n",
              "customer e-mail        0\n",
              "country                0\n",
              "gender                 0\n",
              "age                    0\n",
              "annual Salary          0\n",
              "credit card debt       0\n",
              "net worth              0\n",
              "car purchase amount    0\n",
              "dtype: int64"
            ]
          },
          "metadata": {},
          "execution_count": 124
        }
      ]
    },
    {
      "cell_type": "code",
      "source": [
        "data['gender'].value_counts(normalize=True)"
      ],
      "metadata": {
        "colab": {
          "base_uri": "https://localhost:8080/"
        },
        "id": "xC5dT3gtW03c",
        "outputId": "e1056d99-2dd7-49d5-b877-57ccdd3b31c6"
      },
      "execution_count": 125,
      "outputs": [
        {
          "output_type": "execute_result",
          "data": {
            "text/plain": [
              "1    0.506\n",
              "0    0.494\n",
              "Name: gender, dtype: float64"
            ]
          },
          "metadata": {},
          "execution_count": 125
        }
      ]
    },
    {
      "cell_type": "code",
      "source": [
        "sns.countplot(x=data[\"gender\"])"
      ],
      "metadata": {
        "colab": {
          "base_uri": "https://localhost:8080/",
          "height": 296
        },
        "id": "dHZYUE96W1AT",
        "outputId": "113247a9-afdb-4957-d16e-33085c57d02c"
      },
      "execution_count": 126,
      "outputs": [
        {
          "output_type": "execute_result",
          "data": {
            "text/plain": [
              "<matplotlib.axes._subplots.AxesSubplot at 0x7f0ebd112eb0>"
            ]
          },
          "metadata": {},
          "execution_count": 126
        },
        {
          "output_type": "display_data",
          "data": {
            "text/plain": [
              "<Figure size 432x288 with 1 Axes>"
            ],
            "image/png": "[encoded data removed]"
          },
          "metadata": {
            "needs_background": "light"
          }
        }
      ]
    },
    {
      "cell_type": "code",
      "source": [
        "plt.scatter(data['annual Salary'], data['car purchase amount'], color= \"green\")"
      ],
      "metadata": {
        "colab": {
          "base_uri": "https://localhost:8080/",
          "height": 282
        },
        "id": "amQzT674vA6u",
        "outputId": "148a1ca1-8805-4eb5-ea78-bf4ac721797d"
      },
      "execution_count": 127,
      "outputs": [
        {
          "output_type": "execute_result",
          "data": {
            "text/plain": [
              "<matplotlib.collections.PathCollection at 0x7f0ebae95970>"
            ]
          },
          "metadata": {},
          "execution_count": 127
        },
        {
          "output_type": "display_data",
          "data": {
            "text/plain": [
              "<Figure size 432x288 with 1 Axes>"
            ],
            "image/png": "[encoded data removed]"
          },
          "metadata": {
            "needs_background": "light"
          }
        }
      ]
    },
    {
      "cell_type": "code",
      "source": [
        "plt.scatter(data['net worth'], data['car purchase amount'])"
      ],
      "metadata": {
        "colab": {
          "base_uri": "https://localhost:8080/",
          "height": 295
        },
        "id": "Sr3uSvz1wnVw",
        "outputId": "1a0cebcc-2661-4d06-f483-bb029c026c81"
      },
      "execution_count": 128,
      "outputs": [
        {
          "output_type": "execute_result",
          "data": {
            "text/plain": [
              "<matplotlib.collections.PathCollection at 0x7f0ebae70e80>"
            ]
          },
          "metadata": {},
          "execution_count": 128
        },
        {
          "output_type": "display_data",
          "data": {
            "text/plain": [
              "<Figure size 432x288 with 1 Axes>"
            ],
            "image/png": "[encoded data removed]"
          },
          "metadata": {
            "needs_background": "light"
          }
        }
      ]
    },
    {
      "cell_type": "markdown",
      "source": [
        "## Data Preprocessing"
      ],
      "metadata": {
        "id": "o7o0bNQrWPEs"
      }
    },
    {
      "cell_type": "code",
      "source": [
        "data.describe()"
      ],
      "metadata": {
        "colab": {
          "base_uri": "https://localhost:8080/",
          "height": 300
        },
        "id": "M8ZXq0j2Vgta",
        "outputId": "123d1b5a-39ab-4ef8-e5d4-335c655f8733"
      },
      "execution_count": 129,
      "outputs": [
        {
          "output_type": "execute_result",
          "data": {
            "text/plain": [
              "           gender         age  annual Salary  credit card debt  \\\n",
              "count  500.000000  500.000000     500.000000        500.000000   \n",
              "mean     0.506000   46.241674   62127.239608       9607.645049   \n",
              "std      0.500465    7.978862   11703.378228       3489.187973   \n",
              "min      0.000000   20.000000   20000.000000        100.000000   \n",
              "25%      0.000000   40.949969   54391.977195       7397.515792   \n",
              "50%      1.000000   46.049901   62915.497035       9655.035568   \n",
              "75%      1.000000   51.612263   70117.862005      11798.867487   \n",
              "max      1.000000   70.000000  100000.000000      20000.000000   \n",
              "\n",
              "            net worth  car purchase amount  \n",
              "count      500.000000           500.000000  \n",
              "mean    431475.713625         44209.799218  \n",
              "std     173536.756340         10773.178744  \n",
              "min      20000.000000          9000.000000  \n",
              "25%     299824.195900         37629.896040  \n",
              "50%     426750.120650         43997.783390  \n",
              "75%     557324.478725         51254.709517  \n",
              "max    1000000.000000         80000.000000  "
            ],
            "text/html": [
              "\n",
              "  <div id=\"df-599ad5c2-44e7-462e-b0eb-14f14949d1ee\">\n",
              "    <div class=\"colab-df-container\">\n",
              "      <div>\n",
              "<style scoped>\n",
              "    .dataframe tbody tr th:only-of-type {\n",
              "        vertical-align: middle;\n",
              "    }\n",
              "\n",
              "    .dataframe tbody tr th {\n",
              "        vertical-align: top;\n",
              "    }\n",
              "\n",
              "    .dataframe thead th {\n",
              "        text-align: right;\n",
              "    }\n",
              "</style>\n",
              "<table border=\"1\" class=\"dataframe\">\n",
              "  <thead>\n",
              "    <tr style=\"text-align: right;\">\n",
              "      <th></th>\n",
              "      <th>gender</th>\n",
              "      <th>age</th>\n",
              "      <th>annual Salary</th>\n",
              "      <th>credit card debt</th>\n",
              "      <th>net worth</th>\n",
              "      <th>car purchase amount</th>\n",
              "    </tr>\n",
              "  </thead>\n",
              "  <tbody>\n",
              "    <tr>\n",
              "      <th>count</th>\n",
              "      <td>500.000000</td>\n",
              "      <td>500.000000</td>\n",
              "      <td>500.000000</td>\n",
              "      <td>500.000000</td>\n",
              "      <td>500.000000</td>\n",
              "      <td>500.000000</td>\n",
              "    </tr>\n",
              "    <tr>\n",
              "      <th>mean</th>\n",
              "      <td>0.506000</td>\n",
              "      <td>46.241674</td>\n",
              "      <td>62127.239608</td>\n",
              "      <td>9607.645049</td>\n",
              "      <td>431475.713625</td>\n",
              "      <td>44209.799218</td>\n",
              "    </tr>\n",
              "    <tr>\n",
              "      <th>std</th>\n",
              "      <td>0.500465</td>\n",
              "      <td>7.978862</td>\n",
              "      <td>11703.378228</td>\n",
              "      <td>3489.187973</td>\n",
              "      <td>173536.756340</td>\n",
              "      <td>10773.178744</td>\n",
              "    </tr>\n",
              "    <tr>\n",
              "      <th>min</th>\n",
              "      <td>0.000000</td>\n",
              "      <td>20.000000</td>\n",
              "      <td>20000.000000</td>\n",
              "      <td>100.000000</td>\n",
              "      <td>20000.000000</td>\n",
              "      <td>9000.000000</td>\n",
              "    </tr>\n",
              "    <tr>\n",
              "      <th>25%</th>\n",
              "      <td>0.000000</td>\n",
              "      <td>40.949969</td>\n",
              "      <td>54391.977195</td>\n",
              "      <td>7397.515792</td>\n",
              "      <td>299824.195900</td>\n",
              "      <td>37629.896040</td>\n",
              "    </tr>\n",
              "    <tr>\n",
              "      <th>50%</th>\n",
              "      <td>1.000000</td>\n",
              "      <td>46.049901</td>\n",
              "      <td>62915.497035</td>\n",
              "      <td>9655.035568</td>\n",
              "      <td>426750.120650</td>\n",
              "      <td>43997.783390</td>\n",
              "    </tr>\n",
              "    <tr>\n",
              "      <th>75%</th>\n",
              "      <td>1.000000</td>\n",
              "      <td>51.612263</td>\n",
              "      <td>70117.862005</td>\n",
              "      <td>11798.867487</td>\n",
              "      <td>557324.478725</td>\n",
              "      <td>51254.709517</td>\n",
              "    </tr>\n",
              "    <tr>\n",
              "      <th>max</th>\n",
              "      <td>1.000000</td>\n",
              "      <td>70.000000</td>\n",
              "      <td>100000.000000</td>\n",
              "      <td>20000.000000</td>\n",
              "      <td>1000000.000000</td>\n",
              "      <td>80000.000000</td>\n",
              "    </tr>\n",
              "  </tbody>\n",
              "</table>\n",
              "</div>\n",
              "      <button class=\"colab-df-convert\" onclick=\"convertToInteractive('df-599ad5c2-44e7-462e-b0eb-14f14949d1ee')\"\n",
              "              title=\"Convert this dataframe to an interactive table.\"\n",
              "              style=\"display:none;\">\n",
              "        \n",
              "  <svg xmlns=\"http://www.w3.org/2000/svg\" height=\"24px\"viewBox=\"0 0 24 24\"\n",
              "       width=\"24px\">\n",
              "    <path d=\"M0 0h24v24H0V0z\" fill=\"none\"/>\n",
              "    <path d=\"M18.56 5.44l.94 2.06.94-2.06 2.06-.94-2.06-.94-.94-2.06-.94 2.06-2.06.94zm-11 1L8.5 8.5l.94-2.06 2.06-.94-2.06-.94L8.5 2.5l-.94 2.06-2.06.94zm10 10l.94 2.06.94-2.06 2.06-.94-2.06-.94-.94-2.06-.94 2.06-2.06.94z\"/><path d=\"M17.41 7.96l-1.37-1.37c-.4-.4-.92-.59-1.43-.59-.52 0-1.04.2-1.43.59L10.3 9.45l-7.72 7.72c-.78.78-.78 2.05 0 2.83L4 21.41c.39.39.9.59 1.41.59.51 0 1.02-.2 1.41-.59l7.78-7.78 2.81-2.81c.8-.78.8-2.07 0-2.86zM5.41 20L4 18.59l7.72-7.72 1.47 1.35L5.41 20z\"/>\n",
              "  </svg>\n",
              "      </button>\n",
              "      \n",
              "  <style>\n",
              "    .colab-df-container {\n",
              "      display:flex;\n",
              "      flex-wrap:wrap;\n",
              "      gap: 12px;\n",
              "    }\n",
              "\n",
              "    .colab-df-convert {\n",
              "      background-color: #E8F0FE;\n",
              "      border: none;\n",
              "      border-radius: 50%;\n",
              "      cursor: pointer;\n",
              "      display: none;\n",
              "      fill: #1967D2;\n",
              "      height: 32px;\n",
              "      padding: 0 0 0 0;\n",
              "      width: 32px;\n",
              "    }\n",
              "\n",
              "    .colab-df-convert:hover {\n",
              "      background-color: #E2EBFA;\n",
              "      box-shadow: 0px 1px 2px rgba(60, 64, 67, 0.3), 0px 1px 3px 1px rgba(60, 64, 67, 0.15);\n",
              "      fill: #174EA6;\n",
              "    }\n",
              "\n",
              "    [theme=dark] .colab-df-convert {\n",
              "      background-color: #3B4455;\n",
              "      fill: #D2E3FC;\n",
              "    }\n",
              "\n",
              "    [theme=dark] .colab-df-convert:hover {\n",
              "      background-color: #434B5C;\n",
              "      box-shadow: 0px 1px 3px 1px rgba(0, 0, 0, 0.15);\n",
              "      filter: drop-shadow(0px 1px 2px rgba(0, 0, 0, 0.3));\n",
              "      fill: #FFFFFF;\n",
              "    }\n",
              "  </style>\n",
              "\n",
              "      <script>\n",
              "        const buttonEl =\n",
              "          document.querySelector('#df-599ad5c2-44e7-462e-b0eb-14f14949d1ee button.colab-df-convert');\n",
              "        buttonEl.style.display =\n",
              "          google.colab.kernel.accessAllowed ? 'block' : 'none';\n",
              "\n",
              "        async function convertToInteractive(key) {\n",
              "          const element = document.querySelector('#df-599ad5c2-44e7-462e-b0eb-14f14949d1ee');\n",
              "          const dataTable =\n",
              "            await google.colab.kernel.invokeFunction('convertToInteractive',\n",
              "                                                     [key], {});\n",
              "          if (!dataTable) return;\n",
              "\n",
              "          const docLinkHtml = 'Like what you see? Visit the ' +\n",
              "            '<a target=\"_blank\" href=https://colab.research.google.com/notebooks/data_table.ipynb>data table notebook</a>'\n",
              "            + ' to learn more about interactive tables.';\n",
              "          element.innerHTML = '';\n",
              "          dataTable['output_type'] = 'display_data';\n",
              "          await google.colab.output.renderOutput(dataTable, element);\n",
              "          const docLink = document.createElement('div');\n",
              "          docLink.innerHTML = docLinkHtml;\n",
              "          element.appendChild(docLink);\n",
              "        }\n",
              "      </script>\n",
              "    </div>\n",
              "  </div>\n",
              "  "
            ]
          },
          "metadata": {},
          "execution_count": 129
        }
      ]
    },
    {
      "cell_type": "code",
      "source": [
        "data.columns"
      ],
      "metadata": {
        "colab": {
          "base_uri": "https://localhost:8080/"
        },
        "id": "msQXM7VtzgnU",
        "outputId": "1cbfecde-6e72-4a98-9dc5-f40fe4064ceb"
      },
      "execution_count": 130,
      "outputs": [
        {
          "output_type": "execute_result",
          "data": {
            "text/plain": [
              "Index(['customer name', 'customer e-mail', 'country', 'gender', 'age',\n",
              "       'annual Salary', 'credit card debt', 'net worth',\n",
              "       'car purchase amount'],\n",
              "      dtype='object')"
            ]
          },
          "metadata": {},
          "execution_count": 130
        }
      ]
    },
    {
      "cell_type": "code",
      "source": [
        "data.corr()[[\"car purchase amount\"]].sort_values([\"car purchase amount\"])"
      ],
      "metadata": {
        "colab": {
          "base_uri": "https://localhost:8080/",
          "height": 237
        },
        "id": "7MuV2vsL0tWc",
        "outputId": "07cb5e55-1540-4131-cba0-80dc85acb548"
      },
      "execution_count": 131,
      "outputs": [
        {
          "output_type": "execute_result",
          "data": {
            "text/plain": [
              "                     car purchase amount\n",
              "gender                         -0.066408\n",
              "credit card debt                0.028882\n",
              "net worth                       0.488580\n",
              "annual Salary                   0.617862\n",
              "age                             0.632865\n",
              "car purchase amount             1.000000"
            ],
            "text/html": [
              "\n",
              "  <div id=\"df-ab807a87-83d1-4ba3-8231-ccfa8a29cf71\">\n",
              "    <div class=\"colab-df-container\">\n",
              "      <div>\n",
              "<style scoped>\n",
              "    .dataframe tbody tr th:only-of-type {\n",
              "        vertical-align: middle;\n",
              "    }\n",
              "\n",
              "    .dataframe tbody tr th {\n",
              "        vertical-align: top;\n",
              "    }\n",
              "\n",
              "    .dataframe thead th {\n",
              "        text-align: right;\n",
              "    }\n",
              "</style>\n",
              "<table border=\"1\" class=\"dataframe\">\n",
              "  <thead>\n",
              "    <tr style=\"text-align: right;\">\n",
              "      <th></th>\n",
              "      <th>car purchase amount</th>\n",
              "    </tr>\n",
              "  </thead>\n",
              "  <tbody>\n",
              "    <tr>\n",
              "      <th>gender</th>\n",
              "      <td>-0.066408</td>\n",
              "    </tr>\n",
              "    <tr>\n",
              "      <th>credit card debt</th>\n",
              "      <td>0.028882</td>\n",
              "    </tr>\n",
              "    <tr>\n",
              "      <th>net worth</th>\n",
              "      <td>0.488580</td>\n",
              "    </tr>\n",
              "    <tr>\n",
              "      <th>annual Salary</th>\n",
              "      <td>0.617862</td>\n",
              "    </tr>\n",
              "    <tr>\n",
              "      <th>age</th>\n",
              "      <td>0.632865</td>\n",
              "    </tr>\n",
              "    <tr>\n",
              "      <th>car purchase amount</th>\n",
              "      <td>1.000000</td>\n",
              "    </tr>\n",
              "  </tbody>\n",
              "</table>\n",
              "</div>\n",
              "      <button class=\"colab-df-convert\" onclick=\"convertToInteractive('df-ab807a87-83d1-4ba3-8231-ccfa8a29cf71')\"\n",
              "              title=\"Convert this dataframe to an interactive table.\"\n",
              "              style=\"display:none;\">\n",
              "        \n",
              "  <svg xmlns=\"http://www.w3.org/2000/svg\" height=\"24px\"viewBox=\"0 0 24 24\"\n",
              "       width=\"24px\">\n",
              "    <path d=\"M0 0h24v24H0V0z\" fill=\"none\"/>\n",
              "    <path d=\"M18.56 5.44l.94 2.06.94-2.06 2.06-.94-2.06-.94-.94-2.06-.94 2.06-2.06.94zm-11 1L8.5 8.5l.94-2.06 2.06-.94-2.06-.94L8.5 2.5l-.94 2.06-2.06.94zm10 10l.94 2.06.94-2.06 2.06-.94-2.06-.94-.94-2.06-.94 2.06-2.06.94z\"/><path d=\"M17.41 7.96l-1.37-1.37c-.4-.4-.92-.59-1.43-.59-.52 0-1.04.2-1.43.59L10.3 9.45l-7.72 7.72c-.78.78-.78 2.05 0 2.83L4 21.41c.39.39.9.59 1.41.59.51 0 1.02-.2 1.41-.59l7.78-7.78 2.81-2.81c.8-.78.8-2.07 0-2.86zM5.41 20L4 18.59l7.72-7.72 1.47 1.35L5.41 20z\"/>\n",
              "  </svg>\n",
              "      </button>\n",
              "      \n",
              "  <style>\n",
              "    .colab-df-container {\n",
              "      display:flex;\n",
              "      flex-wrap:wrap;\n",
              "      gap: 12px;\n",
              "    }\n",
              "\n",
              "    .colab-df-convert {\n",
              "      background-color: #E8F0FE;\n",
              "      border: none;\n",
              "      border-radius: 50%;\n",
              "      cursor: pointer;\n",
              "      display: none;\n",
              "      fill: #1967D2;\n",
              "      height: 32px;\n",
              "      padding: 0 0 0 0;\n",
              "      width: 32px;\n",
              "    }\n",
              "\n",
              "    .colab-df-convert:hover {\n",
              "      background-color: #E2EBFA;\n",
              "      box-shadow: 0px 1px 2px rgba(60, 64, 67, 0.3), 0px 1px 3px 1px rgba(60, 64, 67, 0.15);\n",
              "      fill: #174EA6;\n",
              "    }\n",
              "\n",
              "    [theme=dark] .colab-df-convert {\n",
              "      background-color: #3B4455;\n",
              "      fill: #D2E3FC;\n",
              "    }\n",
              "\n",
              "    [theme=dark] .colab-df-convert:hover {\n",
              "      background-color: #434B5C;\n",
              "      box-shadow: 0px 1px 3px 1px rgba(0, 0, 0, 0.15);\n",
              "      filter: drop-shadow(0px 1px 2px rgba(0, 0, 0, 0.3));\n",
              "      fill: #FFFFFF;\n",
              "    }\n",
              "  </style>\n",
              "\n",
              "      <script>\n",
              "        const buttonEl =\n",
              "          document.querySelector('#df-ab807a87-83d1-4ba3-8231-ccfa8a29cf71 button.colab-df-convert');\n",
              "        buttonEl.style.display =\n",
              "          google.colab.kernel.accessAllowed ? 'block' : 'none';\n",
              "\n",
              "        async function convertToInteractive(key) {\n",
              "          const element = document.querySelector('#df-ab807a87-83d1-4ba3-8231-ccfa8a29cf71');\n",
              "          const dataTable =\n",
              "            await google.colab.kernel.invokeFunction('convertToInteractive',\n",
              "                                                     [key], {});\n",
              "          if (!dataTable) return;\n",
              "\n",
              "          const docLinkHtml = 'Like what you see? Visit the ' +\n",
              "            '<a target=\"_blank\" href=https://colab.research.google.com/notebooks/data_table.ipynb>data table notebook</a>'\n",
              "            + ' to learn more about interactive tables.';\n",
              "          element.innerHTML = '';\n",
              "          dataTable['output_type'] = 'display_data';\n",
              "          await google.colab.output.renderOutput(dataTable, element);\n",
              "          const docLink = document.createElement('div');\n",
              "          docLink.innerHTML = docLinkHtml;\n",
              "          element.appendChild(docLink);\n",
              "        }\n",
              "      </script>\n",
              "    </div>\n",
              "  </div>\n",
              "  "
            ]
          },
          "metadata": {},
          "execution_count": 131
        }
      ]
    },
    {
      "cell_type": "code",
      "source": [
        "#defining independent features\n",
        "ind_cols = ['age','gender','annual Salary', 'credit card debt', 'net worth']"
      ],
      "metadata": {
        "id": "-xxwzn_fzKIz"
      },
      "execution_count": 132,
      "outputs": []
    },
    {
      "cell_type": "markdown",
      "source": [
        "## Splitting into features and target"
      ],
      "metadata": {
        "id": "EtTLnraW1v60"
      }
    },
    {
      "cell_type": "code",
      "source": [
        "x=data[ind_cols]\n",
        "y=data['car purchase amount']"
      ],
      "metadata": {
        "id": "em-Kd8tgz7ts"
      },
      "execution_count": 133,
      "outputs": []
    },
    {
      "cell_type": "markdown",
      "source": [
        "## Converting categorical values into one hot encoding"
      ],
      "metadata": {
        "id": "g4HNjDqH2SeK"
      }
    },
    {
      "cell_type": "code",
      "source": [
        "x=pd.get_dummies(x)"
      ],
      "metadata": {
        "id": "UpZWkPiG2Dku"
      },
      "execution_count": 134,
      "outputs": []
    },
    {
      "cell_type": "markdown",
      "source": [
        "## Splitting the data into train and test"
      ],
      "metadata": {
        "id": "KhyznDUb3TUE"
      }
    },
    {
      "cell_type": "code",
      "source": [
        "x_train, x_test, y_train , y_test = train_test_split(x,y,test_size=0.15,\n",
        "                                                    random_state=32)"
      ],
      "metadata": {
        "id": "WA7VuI2H3HUA"
      },
      "execution_count": 135,
      "outputs": []
    },
    {
      "cell_type": "markdown",
      "source": [
        "## ANN Model"
      ],
      "metadata": {
        "id": "ufV3WNbP6O0L"
      }
    },
    {
      "cell_type": "code",
      "execution_count": 136,
      "metadata": {
        "id": "M7Nvrf2xzT0v"
      },
      "outputs": [],
      "source": [
        "from tensorflow.keras.models import Sequential\n",
        "from tensorflow.keras.layers import Dense"
      ]
    },
    {
      "cell_type": "code",
      "execution_count": 137,
      "metadata": {
        "id": "dx4vDqCHHNbQ",
        "outputId": "3ddc0c99-42c9-4dee-90e2-44c3305ab082",
        "colab": {
          "base_uri": "https://localhost:8080/"
        }
      },
      "outputs": [
        {
          "output_type": "execute_result",
          "data": {
            "text/plain": [
              "((425, 5), (425,))"
            ]
          },
          "metadata": {},
          "execution_count": 137
        }
      ],
      "source": [
        "x_train.shape, y_train.shape"
      ]
    },
    {
      "cell_type": "markdown",
      "source": [
        "## Model 1"
      ],
      "metadata": {
        "id": "3aQusETKNjdu"
      }
    },
    {
      "cell_type": "code",
      "execution_count": 63,
      "metadata": {
        "id": "eze3SqaHHNbQ",
        "colab": {
          "base_uri": "https://localhost:8080/"
        },
        "outputId": "763c5138-05d0-40e7-80bc-ba3e1e7609ca"
      },
      "outputs": [
        {
          "output_type": "stream",
          "name": "stdout",
          "text": [
            "Model: \"sequential_1\"\n",
            "_________________________________________________________________\n",
            " Layer (type)                Output Shape              Param #   \n",
            "=================================================================\n",
            " dense_4 (Dense)             (None, 32)                192       \n",
            "                                                                 \n",
            " dense_5 (Dense)             (None, 16)                528       \n",
            "                                                                 \n",
            " dense_6 (Dense)             (None, 8)                 136       \n",
            "                                                                 \n",
            " dense_7 (Dense)             (None, 1)                 9         \n",
            "                                                                 \n",
            "=================================================================\n",
            "Total params: 865\n",
            "Trainable params: 865\n",
            "Non-trainable params: 0\n",
            "_________________________________________________________________\n"
          ]
        }
      ],
      "source": [
        "ann_seq = Sequential() #model\n",
        "# hidden layers\n",
        "ann_seq.add(Dense(32, activation = \"relu\",input_shape = (5,)))\n",
        "ann_seq.add(Dense(16, activation = \"relu\"))\n",
        "ann_seq.add(Dense(8, activation = \"relu\"))\n",
        "ann_seq.add(Dense(1, activation = None))\n",
        "#summary \n",
        "ann_seq.summary()"
      ]
    },
    {
      "cell_type": "code",
      "execution_count": 138,
      "metadata": {
        "id": "YWrsQUwNHNbM"
      },
      "outputs": [],
      "source": [
        "ann_seq.compile(optimizer=\"adam\",metrics = ['mse'], loss = \"mean_squared_error\")"
      ]
    },
    {
      "cell_type": "code",
      "execution_count": 139,
      "metadata": {
        "id": "sFpscmA-HNbM",
        "colab": {
          "base_uri": "https://localhost:8080/"
        },
        "outputId": "f2aca354-3364-45ed-b2bd-ee7dd10b7d33"
      },
      "outputs": [
        {
          "output_type": "stream",
          "name": "stdout",
          "text": [
            "Epoch 1/20\n",
            "7/7 [==============================] - 0s 3ms/step - loss: 52395540.0000 - mse: 52395540.0000\n",
            "Epoch 2/20\n",
            "7/7 [==============================] - 0s 3ms/step - loss: 46662852.0000 - mse: 46662852.0000\n",
            "Epoch 3/20\n",
            "7/7 [==============================] - 0s 2ms/step - loss: 49194404.0000 - mse: 49194404.0000\n",
            "Epoch 4/20\n",
            "7/7 [==============================] - 0s 3ms/step - loss: 46514460.0000 - mse: 46514460.0000\n",
            "Epoch 5/20\n",
            "7/7 [==============================] - 0s 3ms/step - loss: 45418596.0000 - mse: 45418596.0000\n",
            "Epoch 6/20\n",
            "7/7 [==============================] - 0s 2ms/step - loss: 44989360.0000 - mse: 44989360.0000\n",
            "Epoch 7/20\n",
            "7/7 [==============================] - 0s 3ms/step - loss: 44924028.0000 - mse: 44924028.0000\n",
            "Epoch 8/20\n",
            "7/7 [==============================] - 0s 3ms/step - loss: 46890168.0000 - mse: 46890168.0000\n",
            "Epoch 9/20\n",
            "7/7 [==============================] - 0s 2ms/step - loss: 45624996.0000 - mse: 45624996.0000\n",
            "Epoch 10/20\n",
            "7/7 [==============================] - 0s 3ms/step - loss: 44691668.0000 - mse: 44691668.0000\n",
            "Epoch 11/20\n",
            "7/7 [==============================] - 0s 2ms/step - loss: 45493396.0000 - mse: 45493396.0000\n",
            "Epoch 12/20\n",
            "7/7 [==============================] - 0s 3ms/step - loss: 46574128.0000 - mse: 46574128.0000\n",
            "Epoch 13/20\n",
            "7/7 [==============================] - 0s 3ms/step - loss: 43974748.0000 - mse: 43974748.0000\n",
            "Epoch 14/20\n",
            "7/7 [==============================] - 0s 3ms/step - loss: 44180180.0000 - mse: 44180180.0000\n",
            "Epoch 15/20\n",
            "7/7 [==============================] - 0s 2ms/step - loss: 44326420.0000 - mse: 44326420.0000\n",
            "Epoch 16/20\n",
            "7/7 [==============================] - 0s 3ms/step - loss: 44506148.0000 - mse: 44506148.0000\n",
            "Epoch 17/20\n",
            "7/7 [==============================] - 0s 3ms/step - loss: 44525164.0000 - mse: 44525164.0000\n",
            "Epoch 18/20\n",
            "7/7 [==============================] - 0s 3ms/step - loss: 43996328.0000 - mse: 43996328.0000\n",
            "Epoch 19/20\n",
            "7/7 [==============================] - 0s 3ms/step - loss: 44281920.0000 - mse: 44281920.0000\n",
            "Epoch 20/20\n",
            "7/7 [==============================] - 0s 4ms/step - loss: 45181520.0000 - mse: 45181520.0000\n"
          ]
        },
        {
          "output_type": "execute_result",
          "data": {
            "text/plain": [
              "<keras.callbacks.History at 0x7f0ebae0ab20>"
            ]
          },
          "metadata": {},
          "execution_count": 139
        }
      ],
      "source": [
        "epochs = 20\n",
        "batch_size = 64\n",
        "\n",
        "ann_seq.fit(x_train, y_train , epochs = epochs, batch_size= batch_size)"
      ]
    },
    {
      "cell_type": "code",
      "execution_count": 140,
      "metadata": {
        "id": "JgRcAk9rHNbR",
        "outputId": "13f05073-0767-44b0-dc17-886e42b07e64",
        "colab": {
          "base_uri": "https://localhost:8080/"
        }
      },
      "outputs": [
        {
          "output_type": "stream",
          "name": "stdout",
          "text": [
            "3/3 [==============================] - 0s 4ms/step\n"
          ]
        }
      ],
      "source": [
        "y_pred = ann_seq.predict(x_test)"
      ]
    },
    {
      "cell_type": "code",
      "execution_count": 141,
      "metadata": {
        "id": "n9xchlY-HNbR"
      },
      "outputs": [],
      "source": [
        "\n",
        "from sklearn.metrics import mean_squared_error"
      ]
    },
    {
      "cell_type": "code",
      "execution_count": 142,
      "metadata": {
        "id": "cfZLOk-RHNbR",
        "outputId": "6c0aff69-9a22-4704-ff20-355c52f372ec",
        "colab": {
          "base_uri": "https://localhost:8080/"
        }
      },
      "outputs": [
        {
          "output_type": "execute_result",
          "data": {
            "text/plain": [
              "51651026.27770504"
            ]
          },
          "metadata": {},
          "execution_count": 142
        }
      ],
      "source": [
        "mean_squared_error(y_test, y_pred)"
      ]
    },
    {
      "cell_type": "code",
      "source": [
        "ann_seq.evaluate(x_test, y_test)"
      ],
      "metadata": {
        "colab": {
          "base_uri": "https://localhost:8080/"
        },
        "id": "HHcEcBvk-OOs",
        "outputId": "45cd0cec-6c84-4f08-e4c5-a2308d79551d"
      },
      "execution_count": 143,
      "outputs": [
        {
          "output_type": "stream",
          "name": "stdout",
          "text": [
            "3/3 [==============================] - 0s 4ms/step - loss: 51651032.0000 - mse: 51651032.0000\n"
          ]
        },
        {
          "output_type": "execute_result",
          "data": {
            "text/plain": [
              "[51651032.0, 51651032.0]"
            ]
          },
          "metadata": {},
          "execution_count": 143
        }
      ]
    },
    {
      "cell_type": "markdown",
      "metadata": {
        "id": "Mo5zo8AGHNbS"
      },
      "source": [
        "## model2 "
      ]
    },
    {
      "cell_type": "markdown",
      "metadata": {
        "id": "ZnMFpKxUHNbS"
      },
      "source": [
        "6 hidden layers, 64-neurons, epcohs = 50 "
      ]
    },
    {
      "cell_type": "code",
      "execution_count": 144,
      "metadata": {
        "id": "6CHGfMWBHNbS",
        "outputId": "728622a6-038a-48fa-cd3d-fcc68e660621",
        "colab": {
          "base_uri": "https://localhost:8080/"
        }
      },
      "outputs": [
        {
          "output_type": "stream",
          "name": "stdout",
          "text": [
            "Model: \"sequential_6\"\n",
            "_________________________________________________________________\n",
            " Layer (type)                Output Shape              Param #   \n",
            "=================================================================\n",
            " dense_36 (Dense)            (None, 64)                384       \n",
            "                                                                 \n",
            " dense_37 (Dense)            (None, 64)                4160      \n",
            "                                                                 \n",
            " dense_38 (Dense)            (None, 64)                4160      \n",
            "                                                                 \n",
            " dense_39 (Dense)            (None, 64)                4160      \n",
            "                                                                 \n",
            " dense_40 (Dense)            (None, 64)                4160      \n",
            "                                                                 \n",
            " dense_41 (Dense)            (None, 64)                4160      \n",
            "                                                                 \n",
            " dense_42 (Dense)            (None, 1)                 65        \n",
            "                                                                 \n",
            "=================================================================\n",
            "Total params: 21,249\n",
            "Trainable params: 21,249\n",
            "Non-trainable params: 0\n",
            "_________________________________________________________________\n"
          ]
        }
      ],
      "source": [
        "model2 = Sequential()\n",
        "model2.add(Dense(64, activation = \"relu\", input_shape = (5,)))\n",
        "model2.add(Dense(64, activation = \"relu\"))\n",
        "model2.add(Dense(64, activation = \"relu\"))\n",
        "model2.add(Dense(64, activation = \"relu\"))\n",
        "model2.add(Dense(64, activation = \"relu\"))\n",
        "model2.add(Dense(64, activation = \"relu\"))\n",
        "model2.add(Dense(1, activation = None))\n",
        "model2.summary()"
      ]
    },
    {
      "cell_type": "code",
      "execution_count": 145,
      "metadata": {
        "id": "nUlf1iDMHNbS"
      },
      "outputs": [],
      "source": [
        "model2.compile(optimizer=\"adam\", loss = \"mean_squared_error\",metrics = [\"mse\"])"
      ]
    },
    {
      "cell_type": "code",
      "execution_count": 146,
      "metadata": {
        "id": "s32-7hgLHNbS",
        "outputId": "7ac64344-c199-45e8-ba38-84a0bc779fc9",
        "colab": {
          "base_uri": "https://localhost:8080/"
        }
      },
      "outputs": [
        {
          "output_type": "stream",
          "name": "stdout",
          "text": [
            "Epoch 1/20\n",
            "6/6 [==============================] - 1s 38ms/step - loss: 648267904.0000 - mse: 648267904.0000 - val_loss: 322850400.0000 - val_mse: 322850400.0000\n",
            "Epoch 2/20\n",
            "6/6 [==============================] - 0s 12ms/step - loss: 245692176.0000 - mse: 245692176.0000 - val_loss: 163017248.0000 - val_mse: 163017248.0000\n",
            "Epoch 3/20\n",
            "6/6 [==============================] - 0s 7ms/step - loss: 198330976.0000 - mse: 198330976.0000 - val_loss: 146937696.0000 - val_mse: 146937696.0000\n",
            "Epoch 4/20\n",
            "6/6 [==============================] - 0s 7ms/step - loss: 171986432.0000 - mse: 171986432.0000 - val_loss: 149561872.0000 - val_mse: 149561872.0000\n",
            "Epoch 5/20\n",
            "6/6 [==============================] - 0s 8ms/step - loss: 142098768.0000 - mse: 142098768.0000 - val_loss: 116305952.0000 - val_mse: 116305952.0000\n",
            "Epoch 6/20\n",
            "6/6 [==============================] - 0s 7ms/step - loss: 112897680.0000 - mse: 112897680.0000 - val_loss: 104706704.0000 - val_mse: 104706704.0000\n",
            "Epoch 7/20\n",
            "6/6 [==============================] - 0s 7ms/step - loss: 81353864.0000 - mse: 81353864.0000 - val_loss: 79438376.0000 - val_mse: 79438376.0000\n",
            "Epoch 8/20\n",
            "6/6 [==============================] - 0s 7ms/step - loss: 61083192.0000 - mse: 61083192.0000 - val_loss: 63883096.0000 - val_mse: 63883096.0000\n",
            "Epoch 9/20\n",
            "6/6 [==============================] - 0s 7ms/step - loss: 48305724.0000 - mse: 48305724.0000 - val_loss: 62593192.0000 - val_mse: 62593192.0000\n",
            "Epoch 10/20\n",
            "6/6 [==============================] - 0s 8ms/step - loss: 47316552.0000 - mse: 47316552.0000 - val_loss: 62675164.0000 - val_mse: 62675164.0000\n",
            "Epoch 11/20\n",
            "6/6 [==============================] - 0s 8ms/step - loss: 46841436.0000 - mse: 46841436.0000 - val_loss: 63003772.0000 - val_mse: 63003772.0000\n",
            "Epoch 12/20\n",
            "6/6 [==============================] - 0s 7ms/step - loss: 47060036.0000 - mse: 47060036.0000 - val_loss: 65289828.0000 - val_mse: 65289828.0000\n",
            "Epoch 13/20\n",
            "6/6 [==============================] - 0s 8ms/step - loss: 44288912.0000 - mse: 44288912.0000 - val_loss: 61498308.0000 - val_mse: 61498308.0000\n",
            "Epoch 14/20\n",
            "6/6 [==============================] - 0s 7ms/step - loss: 43391480.0000 - mse: 43391480.0000 - val_loss: 59766432.0000 - val_mse: 59766432.0000\n",
            "Epoch 15/20\n",
            "6/6 [==============================] - 0s 7ms/step - loss: 46356280.0000 - mse: 46356280.0000 - val_loss: 63693736.0000 - val_mse: 63693736.0000\n",
            "Epoch 16/20\n",
            "6/6 [==============================] - 0s 7ms/step - loss: 47719324.0000 - mse: 47719324.0000 - val_loss: 79791856.0000 - val_mse: 79791856.0000\n",
            "Epoch 17/20\n",
            "6/6 [==============================] - 0s 9ms/step - loss: 48626336.0000 - mse: 48626336.0000 - val_loss: 70205432.0000 - val_mse: 70205432.0000\n",
            "Epoch 18/20\n",
            "6/6 [==============================] - 0s 11ms/step - loss: 56623400.0000 - mse: 56623400.0000 - val_loss: 61764196.0000 - val_mse: 61764196.0000\n",
            "Epoch 19/20\n",
            "6/6 [==============================] - 0s 8ms/step - loss: 51787208.0000 - mse: 51787208.0000 - val_loss: 62162564.0000 - val_mse: 62162564.0000\n",
            "Epoch 20/20\n",
            "6/6 [==============================] - 0s 7ms/step - loss: 45017528.0000 - mse: 45017528.0000 - val_loss: 76376904.0000 - val_mse: 76376904.0000\n"
          ]
        }
      ],
      "source": [
        "history1 = model2.fit(x_train , y_train , epochs = 20, batch_size = 64,\n",
        "           validation_split = 0.1)"
      ]
    },
    {
      "cell_type": "code",
      "execution_count": 147,
      "metadata": {
        "id": "hkKUM3t-HNbS",
        "outputId": "2ac4738f-7e72-4f01-9956-19822e442f20",
        "colab": {
          "base_uri": "https://localhost:8080/"
        }
      },
      "outputs": [
        {
          "output_type": "stream",
          "name": "stdout",
          "text": [
            "3/3 [==============================] - 0s 4ms/step\n"
          ]
        }
      ],
      "source": [
        "y_pred = model2.predict(x_test)"
      ]
    },
    {
      "cell_type": "code",
      "execution_count": 148,
      "metadata": {
        "id": "psGB6i7CHNbT",
        "outputId": "ab86209e-67c1-42a0-bb39-d337e91c79f0",
        "colab": {
          "base_uri": "https://localhost:8080/"
        }
      },
      "outputs": [
        {
          "output_type": "execute_result",
          "data": {
            "text/plain": [
              "52039092.56724037"
            ]
          },
          "metadata": {},
          "execution_count": 148
        }
      ],
      "source": [
        "mean_squared_error(y_test, y_pred)"
      ]
    },
    {
      "cell_type": "code",
      "execution_count": 149,
      "metadata": {
        "id": "GNfP9erXHNbT",
        "outputId": "c82ed18f-dc4c-403f-c1d8-0b17c8067698",
        "colab": {
          "base_uri": "https://localhost:8080/"
        }
      },
      "outputs": [
        {
          "output_type": "execute_result",
          "data": {
            "text/plain": [
              "dict_keys(['loss', 'mse', 'val_loss', 'val_mse'])"
            ]
          },
          "metadata": {},
          "execution_count": 149
        }
      ],
      "source": [
        "history1.history.keys()"
      ]
    },
    {
      "cell_type": "code",
      "execution_count": 150,
      "metadata": {
        "id": "iReKgkKNHNbT"
      },
      "outputs": [],
      "source": [
        "import matplotlib.pyplot as plt"
      ]
    },
    {
      "cell_type": "code",
      "execution_count": 151,
      "metadata": {
        "id": "rqWLOsi5HNbT",
        "outputId": "27e2957f-e644-41de-a6c6-004b88b03f3c",
        "colab": {
          "base_uri": "https://localhost:8080/",
          "height": 350
        }
      },
      "outputs": [
        {
          "output_type": "display_data",
          "data": {
            "text/plain": [
              "<Figure size 576x360 with 1 Axes>"
            ],
            "image/png": "[encoded data removed]"
          },
          "metadata": {
            "needs_background": "light"
          }
        }
      ],
      "source": [
        "fig, ax = plt.subplots(figsize = (8,5))\n",
        "ax.plot(history1.history['loss'], label = \"Training loss\")\n",
        "ax.plot(history1.history['val_loss'], label = \"validation loss\")\n",
        "ax.set_title(\"Loss vs epoch\")\n",
        "ax.set_xlabel(\"Epochs\")\n",
        "ax.grid()\n",
        "plt.show()"
      ]
    },
    {
      "cell_type": "code",
      "execution_count": 152,
      "metadata": {
        "id": "Vxvi941iHNbU",
        "outputId": "4dcdb092-5c85-4dbd-c997-79138d907689",
        "colab": {
          "base_uri": "https://localhost:8080/",
          "height": 350
        }
      },
      "outputs": [
        {
          "output_type": "display_data",
          "data": {
            "text/plain": [
              "<Figure size 576x360 with 1 Axes>"
            ],
            "image/png": "[encoded data removed]"
          },
          "metadata": {
            "needs_background": "light"
          }
        }
      ],
      "source": [
        "fig, ax = plt.subplots(figsize = (8,5))\n",
        "ax.plot(np.log(history1.history['mse']), label = \"Training error\")\n",
        "ax.plot(np.log(history1.history['val_mse']), label = \"validation error\")\n",
        "ax.set_title(\"Log error vs epoch\")\n",
        "ax.set_xlabel(\"Epochs\")\n",
        "ax.set_ylabel(\"log error\")\n",
        "ax.legend()\n",
        "ax.grid()\n",
        "plt.show()"
      ]
    },
    {
      "cell_type": "markdown",
      "source": [
        "## Model 3"
      ],
      "metadata": {
        "id": "0hv93hbaJAFa"
      }
    },
    {
      "cell_type": "code",
      "execution_count": 153,
      "metadata": {
        "id": "nX_tawnlHNbV",
        "colab": {
          "base_uri": "https://localhost:8080/"
        },
        "outputId": "e6e0f7b6-fa75-483c-9048-46ea097aafed"
      },
      "outputs": [
        {
          "output_type": "stream",
          "name": "stdout",
          "text": [
            "Model: \"sequential_7\"\n",
            "_________________________________________________________________\n",
            " Layer (type)                Output Shape              Param #   \n",
            "=================================================================\n",
            " dense_43 (Dense)            (None, 128)               768       \n",
            "                                                                 \n",
            " dense_44 (Dense)            (None, 128)               16512     \n",
            "                                                                 \n",
            " dense_45 (Dense)            (None, 128)               16512     \n",
            "                                                                 \n",
            " dense_46 (Dense)            (None, 64)                8256      \n",
            "                                                                 \n",
            " dense_47 (Dense)            (None, 64)                4160      \n",
            "                                                                 \n",
            " dense_48 (Dense)            (None, 64)                4160      \n",
            "                                                                 \n",
            " dense_49 (Dense)            (None, 1)                 65        \n",
            "                                                                 \n",
            "=================================================================\n",
            "Total params: 50,433\n",
            "Trainable params: 50,433\n",
            "Non-trainable params: 0\n",
            "_________________________________________________________________\n"
          ]
        }
      ],
      "source": [
        "model3 = Sequential()\n",
        "model3.add(Dense(128, activation = \"relu\", input_shape = (5,)))\n",
        "model3.add(Dense(128, activation = \"relu\"))\n",
        "model3.add(Dense(128, activation = \"relu\"))\n",
        "model3.add(Dense(64, activation = \"relu\"))\n",
        "model3.add(Dense(64, activation = \"relu\"))\n",
        "model3.add(Dense(64, activation = \"relu\"))\n",
        "model3.add(Dense(1, activation = None))\n",
        "model3.summary()"
      ]
    },
    {
      "cell_type": "code",
      "execution_count": 154,
      "metadata": {
        "id": "4Yce3ZaCLVRd"
      },
      "outputs": [],
      "source": [
        "model3.compile(optimizer=\"adam\", loss = \"mean_squared_error\",metrics = [\"mse\"])"
      ]
    },
    {
      "cell_type": "code",
      "execution_count": 155,
      "metadata": {
        "outputId": "20007847-e85b-491a-b002-2db008a208b6",
        "colab": {
          "base_uri": "https://localhost:8080/"
        },
        "id": "CRael1WrLVRe"
      },
      "outputs": [
        {
          "output_type": "stream",
          "name": "stdout",
          "text": [
            "Epoch 1/20\n",
            "6/6 [==============================] - 0s 16ms/step - loss: 46324184.0000 - mse: 46324184.0000 - val_loss: 63656852.0000 - val_mse: 63656852.0000\n",
            "Epoch 2/20\n",
            "6/6 [==============================] - 0s 10ms/step - loss: 44476872.0000 - mse: 44476872.0000 - val_loss: 63655524.0000 - val_mse: 63655524.0000\n",
            "Epoch 3/20\n",
            "6/6 [==============================] - 0s 7ms/step - loss: 42745964.0000 - mse: 42745964.0000 - val_loss: 63398196.0000 - val_mse: 63398196.0000\n",
            "Epoch 4/20\n",
            "6/6 [==============================] - 0s 7ms/step - loss: 43044916.0000 - mse: 43044916.0000 - val_loss: 65261236.0000 - val_mse: 65261236.0000\n",
            "Epoch 5/20\n",
            "6/6 [==============================] - 0s 7ms/step - loss: 44999708.0000 - mse: 44999708.0000 - val_loss: 59738560.0000 - val_mse: 59738560.0000\n",
            "Epoch 6/20\n",
            "6/6 [==============================] - 0s 8ms/step - loss: 45537764.0000 - mse: 45537764.0000 - val_loss: 60318852.0000 - val_mse: 60318852.0000\n",
            "Epoch 7/20\n",
            "6/6 [==============================] - 0s 7ms/step - loss: 44616024.0000 - mse: 44616024.0000 - val_loss: 61646784.0000 - val_mse: 61646784.0000\n",
            "Epoch 8/20\n",
            "6/6 [==============================] - 0s 7ms/step - loss: 43605620.0000 - mse: 43605620.0000 - val_loss: 68559712.0000 - val_mse: 68559712.0000\n",
            "Epoch 9/20\n",
            "6/6 [==============================] - 0s 7ms/step - loss: 47788012.0000 - mse: 47788012.0000 - val_loss: 71004232.0000 - val_mse: 71004232.0000\n",
            "Epoch 10/20\n",
            "6/6 [==============================] - 0s 7ms/step - loss: 46479880.0000 - mse: 46479880.0000 - val_loss: 60870404.0000 - val_mse: 60870404.0000\n",
            "Epoch 11/20\n",
            "6/6 [==============================] - 0s 12ms/step - loss: 43889968.0000 - mse: 43889968.0000 - val_loss: 62902944.0000 - val_mse: 62902944.0000\n",
            "Epoch 12/20\n",
            "6/6 [==============================] - 0s 7ms/step - loss: 43265164.0000 - mse: 43265164.0000 - val_loss: 69244616.0000 - val_mse: 69244616.0000\n",
            "Epoch 13/20\n",
            "6/6 [==============================] - 0s 7ms/step - loss: 44858268.0000 - mse: 44858268.0000 - val_loss: 60643952.0000 - val_mse: 60643952.0000\n",
            "Epoch 14/20\n",
            "6/6 [==============================] - 0s 8ms/step - loss: 42844524.0000 - mse: 42844524.0000 - val_loss: 62139672.0000 - val_mse: 62139672.0000\n",
            "Epoch 15/20\n",
            "6/6 [==============================] - 0s 9ms/step - loss: 43409076.0000 - mse: 43409076.0000 - val_loss: 60920344.0000 - val_mse: 60920344.0000\n",
            "Epoch 16/20\n",
            "6/6 [==============================] - 0s 7ms/step - loss: 44300852.0000 - mse: 44300852.0000 - val_loss: 61008636.0000 - val_mse: 61008636.0000\n",
            "Epoch 17/20\n",
            "6/6 [==============================] - 0s 9ms/step - loss: 47934656.0000 - mse: 47934656.0000 - val_loss: 67950344.0000 - val_mse: 67950344.0000\n",
            "Epoch 18/20\n",
            "6/6 [==============================] - 0s 8ms/step - loss: 43019732.0000 - mse: 43019732.0000 - val_loss: 64401668.0000 - val_mse: 64401668.0000\n",
            "Epoch 19/20\n",
            "6/6 [==============================] - 0s 7ms/step - loss: 44260468.0000 - mse: 44260468.0000 - val_loss: 61060048.0000 - val_mse: 61060048.0000\n",
            "Epoch 20/20\n",
            "6/6 [==============================] - 0s 13ms/step - loss: 42849520.0000 - mse: 42849520.0000 - val_loss: 68284408.0000 - val_mse: 68284408.0000\n"
          ]
        }
      ],
      "source": [
        "history2= model2.fit(x_train , y_train , epochs = 20, batch_size = 64,\n",
        "           validation_split = 0.1)"
      ]
    },
    {
      "cell_type": "code",
      "execution_count": 156,
      "metadata": {
        "outputId": "49f3f107-9184-4d6e-e25c-5c0e3cc9dd4f",
        "colab": {
          "base_uri": "https://localhost:8080/"
        },
        "id": "NierRWgiLVRf"
      },
      "outputs": [
        {
          "output_type": "stream",
          "name": "stdout",
          "text": [
            "3/3 [==============================] - 0s 4ms/step\n"
          ]
        }
      ],
      "source": [
        "y_pred = model2.predict(x_test)"
      ]
    },
    {
      "cell_type": "code",
      "execution_count": 157,
      "metadata": {
        "outputId": "dd25870d-0343-479c-9cc5-c13eeec52a28",
        "colab": {
          "base_uri": "https://localhost:8080/"
        },
        "id": "KqSOn_PSLVRg"
      },
      "outputs": [
        {
          "output_type": "execute_result",
          "data": {
            "text/plain": [
              "48809005.66662997"
            ]
          },
          "metadata": {},
          "execution_count": 157
        }
      ],
      "source": [
        "mean_squared_error(y_test, y_pred)"
      ]
    },
    {
      "cell_type": "code",
      "execution_count": 158,
      "metadata": {
        "outputId": "f8a68535-dc2c-423d-9192-fd1c891c3b8a",
        "colab": {
          "base_uri": "https://localhost:8080/"
        },
        "id": "SmwosDMPLVRg"
      },
      "outputs": [
        {
          "output_type": "execute_result",
          "data": {
            "text/plain": [
              "dict_keys(['loss', 'mse', 'val_loss', 'val_mse'])"
            ]
          },
          "metadata": {},
          "execution_count": 158
        }
      ],
      "source": [
        "history2.history.keys()"
      ]
    },
    {
      "cell_type": "code",
      "execution_count": 159,
      "metadata": {
        "id": "Ecb6YZstLVRg"
      },
      "outputs": [],
      "source": [
        "import matplotlib.pyplot as plt"
      ]
    },
    {
      "cell_type": "code",
      "execution_count": 160,
      "metadata": {
        "outputId": "fc167e94-57ac-4fc9-cb4a-29a266138da4",
        "colab": {
          "base_uri": "https://localhost:8080/",
          "height": 350
        },
        "id": "CAg6Aqg_LVRh"
      },
      "outputs": [
        {
          "output_type": "display_data",
          "data": {
            "text/plain": [
              "<Figure size 576x360 with 1 Axes>"
            ],
            "image/png": "[encoded data removed]"
          },
          "metadata": {
            "needs_background": "light"
          }
        }
      ],
      "source": [
        "fig, ax = plt.subplots(figsize = (8,5))\n",
        "ax.plot(history2.history['loss'], label = \"Training loss\")\n",
        "ax.plot(history2.history['val_loss'], label = \"validation loss\")\n",
        "ax.set_title(\"Loss vs epoch\")\n",
        "ax.set_xlabel(\"Epochs\")\n",
        "ax.grid()\n",
        "plt.show()"
      ]
    },
    {
      "cell_type": "code",
      "execution_count": 161,
      "metadata": {
        "outputId": "3ba8afd4-722d-456c-984a-214cbd8d8324",
        "colab": {
          "base_uri": "https://localhost:8080/",
          "height": 350
        },
        "id": "_2lA3bfHLVRh"
      },
      "outputs": [
        {
          "output_type": "display_data",
          "data": {
            "text/plain": [
              "<Figure size 576x360 with 1 Axes>"
            ],
            "image/png": "[encoded data removed]"
          },
          "metadata": {
            "needs_background": "light"
          }
        }
      ],
      "source": [
        "fig, ax = plt.subplots(figsize = (8,5))\n",
        "ax.plot(np.log(history2.history['mse']), label = \"Training error\")\n",
        "ax.plot(np.log(history2.history['val_mse']), label = \"validation error\")\n",
        "ax.set_title(\"Log error vs epoch\")\n",
        "ax.set_xlabel(\"Epochs\")\n",
        "ax.set_ylabel(\"log error\")\n",
        "ax.legend()\n",
        "ax.grid()\n",
        "plt.show()"
      ]
    },
    {
      "cell_type": "code",
      "source": [],
      "metadata": {
        "id": "99cY8IyvMTLt"
      },
      "execution_count": null,
      "outputs": []
    }
  ]
}